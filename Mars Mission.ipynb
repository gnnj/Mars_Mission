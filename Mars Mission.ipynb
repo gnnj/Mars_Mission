{
 "cells": [
  {
   "cell_type": "code",
   "execution_count": 11,
   "metadata": {
    "collapsed": true
   },
   "outputs": [],
   "source": [
    "# Dependencies\n",
    "from bs4 import BeautifulSoup\n",
    "import requests\n",
    "import pandas as pd\n",
    "import pymongo\n",
    "import time\n",
    "from splinter import Browser\n",
    "import requests as req"
   ]
  },
  {
   "cell_type": "code",
   "execution_count": 12,
   "metadata": {},
   "outputs": [
    {
     "name": "stdout",
     "output_type": "stream",
     "text": [
      "-----------------------------------------------------------\n",
      "-----------------------------------------------------------\n",
      "\n",
      "\n",
      "NASA InSight Mission to Mars Arrives at Launch Site\n",
      "\n",
      "\n",
      "-----------------------------------------------------------\n",
      "-----------------------------------------------------------\n",
      "\n",
      "NASA's InSight spacecraft has arrived at Vandenberg Air Force Base in central California to begin final preparations for a launch this May.\n",
      "\n",
      "-----------------------------------------------------------\n",
      "-----------------------------------------------------------\n"
     ]
    }
   ],
   "source": [
    "# Mars News\n",
    "url = 'https://mars.nasa.gov/news'\n",
    "\n",
    "response = requests.get(url)\n",
    "\n",
    "soup = BeautifulSoup(response.text, 'lxml')\n",
    "news_title = soup.find(\"div\", class_=\"content_title\").text\n",
    "news_paragraph = soup.find(\"div\", class_=\"rollover_description_inner\").text\n",
    "browser = Browser('chrome', headless=False)\n",
    "print(\"-----------------------------------------------------------\")\n",
    "print(\"-----------------------------------------------------------\")\n",
    "print(news_title)\n",
    "print(\"-----------------------------------------------------------\")\n",
    "print(\"-----------------------------------------------------------\")\n",
    "print(news_paragraph)\n",
    "print(\"-----------------------------------------------------------\")\n",
    "print(\"-----------------------------------------------------------\")"
   ]
  },
  {
   "cell_type": "code",
   "execution_count": 13,
   "metadata": {},
   "outputs": [
    {
     "name": "stdout",
     "output_type": "stream",
     "text": [
      "https://www.jpl.nasa.gov/spaceimages/images/largesize/PIA17843_hires.jpg\n",
      "-----------------------------------------------------------\n",
      "-----------------------------------------------------------\n"
     ]
    }
   ],
   "source": [
    "# Mars Image\n",
    "url = \"https://www.jpl.nasa.gov/spaceimages/?search=&category=Mars\"\n",
    "browser.visit(url)\n",
    "html = browser.html\n",
    "soup = BeautifulSoup(html, \"html.parser\")\n",
    "browser.click_link_by_partial_text('FULL IMAGE')\n",
    "time.sleep(30)\n",
    "browser.click_link_by_partial_text('more info')\n",
    "\n",
    "new_html = browser.html\n",
    "new_soup = BeautifulSoup(new_html, 'html.parser')\n",
    "image_url = new_soup.find('img', class_='main_image')\n",
    "partial_image_url = image_url.get('src')\n",
    "\n",
    "recent_mars_image_url = \"https://www.jpl.nasa.gov\" + partial_image_url\n",
    "\n",
    "print(recent_mars_image_url)\n",
    "print(\"-----------------------------------------------------------\")\n",
    "print(\"-----------------------------------------------------------\")"
   ]
  },
  {
   "cell_type": "code",
   "execution_count": 14,
   "metadata": {},
   "outputs": [
    {
     "name": "stdout",
     "output_type": "stream",
     "text": [
      "\n",
      "Sol 1983 (March 05, 2018), Sunny, high -8C/17F, low -76C/-104F, pressure at 7.23 hPa, daylight 05:36-17:25\n",
      "\n",
      "\n",
      "Sol 1983 (March 05, 2018), Sunny, high -8C/17F, low -76C/-104F, pressure at 7.23 hPa, daylight 05:36-17:25\n",
      "\n",
      "[<div class=\"js-tweet-text-container\">\n",
      "<p class=\"TweetTextSize TweetTextSize--normal js-tweet-text tweet-text\" data-aria-label-part=\"0\" lang=\"en\">Sol 1983 (March 05, 2018), Sunny, high -8C/17F, low -76C/-104F, pressure at 7.23 hPa, daylight 05:36-17:25</p>\n",
      "</div>, <div class=\"js-tweet-text-container\">\n",
      "<p class=\"TweetTextSize TweetTextSize--normal js-tweet-text tweet-text\" data-aria-label-part=\"0\" lang=\"en\">Sol 1982 (March 04, 2018), Sunny, high -7C/19F, low -77C/-106F, pressure at 7.24 hPa, daylight 05:36-17:25</p>\n",
      "</div>, <div class=\"js-tweet-text-container\">\n",
      "<p class=\"TweetTextSize TweetTextSize--normal js-tweet-text tweet-text\" data-aria-label-part=\"0\" lang=\"en\">Sol 1981 (March 03, 2018), Sunny, high -10C/14F, low -75C/-103F, pressure at 7.25 hPa, daylight 05:36-17:25</p>\n",
      "</div>, <div class=\"js-tweet-text-container\">\n",
      "<p class=\"TweetTextSize TweetTextSize--normal js-tweet-text tweet-text\" data-aria-label-part=\"0\" lang=\"en\">Sol 1978 (Feb 28, 2018), Sunny, high -14C/6F, low -78C/-108F, pressure at 7.27 hPa, daylight 05:37-17:25</p>\n",
      "</div>, <div class=\"js-tweet-text-container\">\n",
      "<p class=\"TweetTextSize TweetTextSize--normal js-tweet-text tweet-text\" data-aria-label-part=\"0\" lang=\"en\">Sol 1977 (Feb 27, 2018), Sunny, high -10C/14F, low -77C/-106F, pressure at 7.27 hPa, daylight 05:37-17:25</p>\n",
      "</div>, <div class=\"js-tweet-text-container\">\n",
      "<p class=\"TweetTextSize TweetTextSize--normal js-tweet-text tweet-text\" data-aria-label-part=\"0\" lang=\"en\">Sol 1976 (Feb 26, 2018), Sunny, high -10C/14F, low -77C/-106F, pressure at 7.28 hPa, daylight 05:37-17:25</p>\n",
      "</div>, <div class=\"js-tweet-text-container\">\n",
      "<p class=\"TweetTextSize TweetTextSize--normal js-tweet-text tweet-text\" data-aria-label-part=\"0\" lang=\"en\">Sol 1974 (Feb 24, 2018), Sunny, high -13C/8F, low -77C/-106F, pressure at 7.29 hPa, daylight 05:37-17:25</p>\n",
      "</div>, <div class=\"js-tweet-text-container\">\n",
      "<p class=\"TweetTextSize TweetTextSize--normal js-tweet-text tweet-text\" data-aria-label-part=\"0\" lang=\"en\">Sol 1970 (Feb 20, 2018), Sunny, high -16C/3F, low -77C/-106F, pressure at 7.32 hPa, daylight 05:38-17:26</p>\n",
      "</div>, <div class=\"js-tweet-text-container\">\n",
      "<p class=\"TweetTextSize TweetTextSize--normal js-tweet-text tweet-text\" data-aria-label-part=\"0\" lang=\"en\">Three Mars Rocks\n",
      "Three Mars Rocks\n",
      "See how they’re abraided\n",
      "See how they’re abraided\n",
      "They’re all a bunch of plain basalt\n",
      "Wind eroded &amp; sedimentary NOT!\n",
      "Three Mars Rocks\n",
      "<a class=\"twitter-hashtag pretty-link js-nav\" data-query-source=\"hashtag_click\" dir=\"ltr\" href=\"/hashtag/MERscienceteamsubtweet?src=hash\"><s>#</s><b>MERscienceteamsubtweet</b></a></p>\n",
      "</div>, <div class=\"js-tweet-text-container\">\n",
      "<p class=\"TweetTextSize TweetTextSize--normal js-tweet-text tweet-text\" data-aria-label-part=\"0\" lang=\"en\">Sol 1969 (Feb 19, 2018), Sunny, high -16C/3F, low -76C/-104F, pressure at 7.32 hPa, daylight 05:39-17:26</p>\n",
      "</div>, <div class=\"js-tweet-text-container\">\n",
      "<p class=\"TweetTextSize TweetTextSize--normal js-tweet-text tweet-text\" data-aria-label-part=\"0\" lang=\"en\">Sol 1967 (Feb 17, 2018), Sunny, high -15C/5F, low -76C/-104F, pressure at 7.34 hPa, daylight 05:39-17:26</p>\n",
      "</div>, <div class=\"js-tweet-text-container\">\n",
      "<p class=\"TweetTextSize TweetTextSize--normal js-tweet-text tweet-text\" data-aria-label-part=\"0\" lang=\"en\">Sol 1964 (Feb 14, 2018), Sunny, high -16C/3F, low -76C/-104F, pressure at 7.36 hPa, daylight 05:40-17:26</p>\n",
      "</div>, <div class=\"js-tweet-text-container\">\n",
      "<p class=\"TweetTextSize TweetTextSize--normal js-tweet-text tweet-text\" data-aria-label-part=\"0\" lang=\"en\">Sol 1963 (Feb 13, 2018), Sunny, high -14C/6F, low -77C/-106F, pressure at 7.37 hPa, daylight 05:40-17:27</p>\n",
      "</div>, <div class=\"js-tweet-text-container\">\n",
      "<p class=\"TweetTextSize TweetTextSize--normal js-tweet-text tweet-text\" data-aria-label-part=\"0\" lang=\"en\">Happy Valentines day from Mars. This 2km wide heart-shaped pit was created by a surface drop caused by expansion along a fault-line Credit: Malin Space Science Systems, MGS, JPL, NASA<a class=\"twitter-timeline-link u-hidden\" data-pre-embedded=\"true\" dir=\"ltr\" href=\"https://t.co/2ybbmSqNi4\">pic.twitter.com/2ybbmSqNi4</a></p>\n",
      "</div>, <div class=\"js-tweet-text-container\">\n",
      "<p class=\"TweetTextSize TweetTextSize--normal js-tweet-text tweet-text\" data-aria-label-part=\"0\" lang=\"en\">Happy Valentines day from Mars. This 2km wide heart-shaped pit was created by a surface drop caused by expansion along a fault-line Credit: Malin Space Science Systems, MGS, JPL, NASA<a class=\"twitter-timeline-link u-hidden\" data-pre-embedded=\"true\" dir=\"ltr\" href=\"https://t.co/2ybbmSqNi4\">pic.twitter.com/2ybbmSqNi4</a></p>\n",
      "</div>, <div class=\"js-tweet-text-container\">\n",
      "<p class=\"TweetTextSize TweetTextSize--normal js-tweet-text tweet-text\" data-aria-label-part=\"0\" lang=\"en\">Sol 1962 (Feb 12, 2018), Sunny, high -14C/6F, low -78C/-108F, pressure at 7.38 hPa, daylight 05:40-17:27</p>\n",
      "</div>, <div class=\"js-tweet-text-container\">\n",
      "<p class=\"TweetTextSize TweetTextSize--normal js-tweet-text tweet-text\" data-aria-label-part=\"0\" lang=\"en\">Sol 1961 (Feb 11, 2018), Sunny, high -21C/-5F, low -77C/-106F, pressure at 7.42 hPa, daylight 05:40-17:27</p>\n",
      "</div>, <div class=\"js-tweet-text-container\">\n",
      "<p class=\"TweetTextSize TweetTextSize--normal js-tweet-text tweet-text\" data-aria-label-part=\"0\" lang=\"en\">Sol 1958 (Feb 07, 2018), Sunny, high -14C/6F, low -77C/-106F, pressure at 7.41 hPa, daylight 05:41-17:27</p>\n",
      "</div>, <div class=\"js-tweet-text-container\">\n",
      "<p class=\"TweetTextSize TweetTextSize--normal js-tweet-text tweet-text\" data-aria-label-part=\"0\" lang=\"en\">It was 148 years ago today, on February 9, 1870, that the National  Weather Service was \"born\" when President Ulysses S. Grant signed a  joint resolution of Congress authorizing the secretary of war to  establish a weather service under the U.S. Army Signal Service. <a class=\"twitter-hashtag pretty-link js-nav\" data-query-source=\"hashtag_click\" dir=\"ltr\" href=\"/hashtag/NWShistory?src=hash\"><s>#</s><b>NWShistory</b></a><a class=\"twitter-timeline-link u-hidden\" data-pre-embedded=\"true\" dir=\"ltr\" href=\"https://t.co/QQRlUtqtRW\">pic.twitter.com/QQRlUtqtRW</a></p>\n",
      "</div>, <div class=\"js-tweet-text-container\">\n",
      "<p class=\"TweetTextSize TweetTextSize--normal js-tweet-text tweet-text\" data-aria-label-part=\"0\" lang=\"en\">Sol 1955 (Feb 04, 2018), Sunny, high -21C/-5F, low -77C/-106F, pressure at 7.45 hPa, daylight 05:41-17:27</p>\n",
      "</div>]\n",
      "-----------------------------------------------------------\n",
      "-----------------------------------------------------------\n"
     ]
    }
   ],
   "source": [
    "# Mars Weather\n",
    "twitter_response = req.get(\"https://twitter.com/marswxreport?lang=en\")\n",
    "twitter_soup = BeautifulSoup(twitter_response.text, 'html.parser')\n",
    "\n",
    "tweet_containers = twitter_soup.find_all('div', class_=\"js-tweet-text-container\")\n",
    "\n",
    "p = tweet_containers[0].text\n",
    "type(p)\n",
    "\n",
    "for tweets in tweet_containers:\n",
    "    if tweets.text:\n",
    "        print(tweets.text)\n",
    "        break\n",
    "\n",
    "for i in range(10):\n",
    "    tweets = tweet_containers[i].text\n",
    "    if \"Sol \" in tweets:\n",
    "        print(tweets)\n",
    "        MarsWeather = tweets\n",
    "        break\n",
    "\n",
    "print(tweet_containers)\n",
    "print(\"-----------------------------------------------------------\")\n",
    "print(\"-----------------------------------------------------------\")"
   ]
  },
  {
   "cell_type": "code",
   "execution_count": 15,
   "metadata": {},
   "outputs": [
    {
     "name": "stdout",
     "output_type": "stream",
     "text": [
      "<table border=\"1\" class=\"dataframe\">\n",
      "  <thead>\n",
      "    <tr style=\"text-align: right;\">\n",
      "      <th></th>\n",
      "      <th>1</th>\n",
      "    </tr>\n",
      "    <tr>\n",
      "      <th>0</th>\n",
      "      <th></th>\n",
      "    </tr>\n",
      "  </thead>\n",
      "  <tbody>\n",
      "    <tr>\n",
      "      <th>Equatorial Diameter:</th>\n",
      "      <td>6,792 km</td>\n",
      "    </tr>\n",
      "    <tr>\n",
      "      <th>Polar Diameter:</th>\n",
      "      <td>6,752 km</td>\n",
      "    </tr>\n",
      "    <tr>\n",
      "      <th>Mass:</th>\n",
      "      <td>6.42 x 10^23 kg (10.7% Earth)</td>\n",
      "    </tr>\n",
      "    <tr>\n",
      "      <th>Moons:</th>\n",
      "      <td>2 (Phobos &amp; Deimos)</td>\n",
      "    </tr>\n",
      "    <tr>\n",
      "      <th>Orbit Distance:</th>\n",
      "      <td>227,943,824 km (1.52 AU)</td>\n",
      "    </tr>\n",
      "    <tr>\n",
      "      <th>Orbit Period:</th>\n",
      "      <td>687 days (1.9 years)</td>\n",
      "    </tr>\n",
      "    <tr>\n",
      "      <th>Surface Temperature:</th>\n",
      "      <td>-153 to 20 °C</td>\n",
      "    </tr>\n",
      "    <tr>\n",
      "      <th>First Record:</th>\n",
      "      <td>2nd millennium BC</td>\n",
      "    </tr>\n",
      "    <tr>\n",
      "      <th>Recorded By:</th>\n",
      "      <td>Egyptian astronomers</td>\n",
      "    </tr>\n",
      "  </tbody>\n",
      "</table>\n",
      "-----------------------------------------------------------\n",
      "-----------------------------------------------------------\n"
     ]
    }
   ],
   "source": [
    "# Mars Facts\n",
    "MarsSpace_Facts = req.get(\"https://space-facts.com/mars/\")\n",
    "MarsSpace_df = pd.read_html(MarsSpace_Facts.text)[0]\n",
    "MarsSpace_df.set_index(0, inplace=True)\n",
    "MarsSpace_df\n",
    "MarsSpace_html = MarsSpace_df.to_html()\n",
    "MarsSpace_html\n",
    "MarsSpace_html.replace('\\n', '')\n",
    "print(MarsSpace_html)\n",
    "print(\"-----------------------------------------------------------\")\n",
    "print(\"-----------------------------------------------------------\")"
   ]
  },
  {
   "cell_type": "code",
   "execution_count": 16,
   "metadata": {},
   "outputs": [
    {
     "name": "stdout",
     "output_type": "stream",
     "text": [
      "[{'Title': 'Cerberus Hemisphere Enhanced', 'Image_Url': 'http://astropedia.astrogeology.usgs.gov/download/Mars/Viking/cerberus_enhanced.tif/full.jpg'}, {'Title': 'Schiaparelli Hemisphere Enhanced', 'Image_Url': 'http://astropedia.astrogeology.usgs.gov/download/Mars/Viking/schiaparelli_enhanced.tif/full.jpg'}, {'Title': 'Syrtis Major Hemisphere Enhanced', 'Image_Url': 'http://astropedia.astrogeology.usgs.gov/download/Mars/Viking/syrtis_major_enhanced.tif/full.jpg'}, {'Title': 'Valles Marineris Hemisphere Enhanced', 'Image_Url': 'http://astropedia.astrogeology.usgs.gov/download/Mars/Viking/valles_marineris_enhanced.tif/full.jpg'}]\n",
      "-----------------------------------------------------------\n",
      "-----------------------------------------------------------\n"
     ]
    }
   ],
   "source": [
    "# Mars hemispheres\n",
    "USGSArch_URL = \"https://astrogeology.usgs.gov/search/results?q=hemisphere+enhanced&k1=target&v1=Mars\"\n",
    "USGSArch_request = req.get(USGSArch_URL)\n",
    "\n",
    "soup = BeautifulSoup(USGSArch_request.text, \"html.parser\")\n",
    "hemisphere_attr_list = soup.find_all('a', class_=\"itemLink product-item\")\n",
    "\n",
    "hemisphere_image_url = []\n",
    "for hemisphere_image in hemisphere_attr_list:\n",
    "    hemisphere_image_title = hemisphere_image.find('h3').text\n",
    "    hemisphere_image_link = \"https://astrogeology.usgs.gov/\" + hemisphere_image['href']\n",
    "    hemisphere_image = req.get(hemisphere_image_link)\n",
    "    soup = BeautifulSoup(hemisphere_image.text, 'lxml')\n",
    "    hemisphere_image_tag = soup.find('div', class_='downloads')\n",
    "    image_url = hemisphere_image_tag.find('a')['href']\n",
    "    hemisphere_image_url.append({\"Title\": hemisphere_image_title, \"Image_Url\": image_url})\n",
    "print(hemisphere_image_url)\n",
    "print(\"-----------------------------------------------------------\")\n",
    "print(\"-----------------------------------------------------------\")"
   ]
  },
  {
   "cell_type": "code",
   "execution_count": 17,
   "metadata": {},
   "outputs": [
    {
     "name": "stdout",
     "output_type": "stream",
     "text": [
      "{'News_Title': '\\n\\nNASA InSight Mission to Mars Arrives at Launch Site\\n\\n', 'News_Paragraph': \"\\nNASA's InSight spacecraft has arrived at Vandenberg Air Force Base in central California to begin final preparations for a launch this May.\\n\", 'Most_Recent_Mars_Image': 'https://www.jpl.nasa.gov/spaceimages/images/largesize/PIA17843_hires.jpg', 'Mars_Weather': '\\nSol 1983 (March 05, 2018), Sunny, high -8C/17F, low -76C/-104F, pressure at 7.23 hPa, daylight 05:36-17:25\\n', 'Mars_URL': [{'Title': 'Cerberus Hemisphere Enhanced', 'Image_Url': 'http://astropedia.astrogeology.usgs.gov/download/Mars/Viking/cerberus_enhanced.tif/full.jpg'}, {'Title': 'Schiaparelli Hemisphere Enhanced', 'Image_Url': 'http://astropedia.astrogeology.usgs.gov/download/Mars/Viking/schiaparelli_enhanced.tif/full.jpg'}, {'Title': 'Syrtis Major Hemisphere Enhanced', 'Image_Url': 'http://astropedia.astrogeology.usgs.gov/download/Mars/Viking/syrtis_major_enhanced.tif/full.jpg'}, {'Title': 'Valles Marineris Hemisphere Enhanced', 'Image_Url': 'http://astropedia.astrogeology.usgs.gov/download/Mars/Viking/valles_marineris_enhanced.tif/full.jpg'}]}\n",
      "-----------------------------------------------------------\n",
      "------------------------FINISHED---------------------------\n"
     ]
    }
   ],
   "source": [
    "Mars_Data = {\n",
    "     \"News_Title\": news_title,\n",
    "     \"News_Paragraph\": news_paragraph,\n",
    "     \"Most_Recent_Mars_Image\": recent_mars_image_url,\n",
    "     \"Mars_Weather\": MarsWeather,\n",
    "     \"Mars_URL\": hemisphere_image_url\n",
    "     }\n",
    "print(Mars_Data)\n",
    "print(\"-----------------------------------------------------------\")\n",
    "print(\"------------------------FINISHED---------------------------\")"
   ]
  }
 ],
 "metadata": {
  "kernelspec": {
   "display_name": "Python 3",
   "language": "python",
   "name": "python3"
  },
  "language_info": {
   "codemirror_mode": {
    "name": "ipython",
    "version": 3
   },
   "file_extension": ".py",
   "mimetype": "text/x-python",
   "name": "python",
   "nbconvert_exporter": "python",
   "pygments_lexer": "ipython3",
   "version": "3.6.3"
  }
 },
 "nbformat": 4,
 "nbformat_minor": 2
}
